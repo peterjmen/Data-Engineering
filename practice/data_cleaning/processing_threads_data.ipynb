{
 "cells": [
  {
   "cell_type": "code",
   "execution_count": null,
   "id": "b92c1b10",
   "metadata": {
    "scrolled": false
   },
   "outputs": [],
   "source": [
    "import dirty_thread_shed_data\n",
    "\n",
    "print(dirty_thread_shed_data.daily_sales[:300])\n",
    "\n"
   ]
  },
  {
   "cell_type": "code",
   "execution_count": null,
   "id": "e7b72960",
   "metadata": {},
   "outputs": [],
   "source": [
    "data = dirty_thread_shed_data.daily_sales\n",
    "\n",
    "# replace seperations between sales data artivact ;,; with !\n",
    "data = data.replace(';,;', '!')\n",
    "print(data[:300])"
   ]
  },
  {
   "cell_type": "code",
   "execution_count": null,
   "id": "ecc940ab",
   "metadata": {},
   "outputs": [],
   "source": [
    "# Split data by ,\n",
    "split_data = data.split(',')\n",
    "print(split_data[:5])"
   ]
  },
  {
   "cell_type": "code",
   "execution_count": null,
   "id": "e8feb157",
   "metadata": {},
   "outputs": [],
   "source": [
    "transactions_clean = []\n",
    "\n",
    "for artifact in split_data:\n",
    "    transactions_clean.append(artifact.split(\"!\"))\n",
    "\n",
    "for i in range(len(transactions_clean)):\n",
    "    print(transactions_clean[i])\n",
    "    if i >=5:\n",
    "        break"
   ]
  },
  {
   "cell_type": "code",
   "execution_count": null,
   "id": "498f8195",
   "metadata": {},
   "outputs": [],
   "source": [
    "remove_n = []\n",
    "\n",
    "for stuff in transactions_clean:\n",
    "    new_stuff = [content.replace(\"\\n\", \"\") for content in stuff]\n",
    "    remove_n.append(new_stuff)\n",
    "\n",
    "stripped_data = []\n",
    "\n",
    "for stuff in remove_n:\n",
    "    new_stuff = [content.strip() for content in stuff]\n",
    "    stripped_data.append(new_stuff)\n",
    "\n",
    "for transac in range(len(stripped_data)):\n",
    "    print(stripped_data[transac])\n",
    "    if transac >=5:\n",
    "        break\n"
   ]
  },
  {
   "cell_type": "code",
   "execution_count": null,
   "id": "1464c3f7",
   "metadata": {},
   "outputs": [],
   "source": [
    "# lists of data\n",
    "customers = []\n",
    "sales = []\n",
    "thread_sold = []\n",
    "\n",
    "for transaction in stripped_data:\n",
    "    customers.append(transaction[0])\n",
    "    sales.append(transaction[1])\n",
    "    thread_sold.append(transaction[2])\n",
    "\n",
    "new_dict_list = []\n",
    "\n",
    "# Organizing data into a list of dictionaries\n",
    "for customer, sale, thread in zip(customers, sales, thread_sold):\n",
    "    new_dict_list.append({'customer': customer, 'sale': sale, 'thread_sold': thread})\n",
    "\n",
    "for cusomer_transaction in new_dict_list:\n",
    "    print(cusomer_transaction)\n"
   ]
  },
  {
   "cell_type": "code",
   "execution_count": null,
   "id": "ede4e299",
   "metadata": {},
   "outputs": [],
   "source": [
    "total_sales = 0\n",
    "\n",
    "for sale in new_dict_list:\n",
    "    total_sales += float(sale[\"sale\"].replace('$', ''))\n",
    "\n",
    "print(total_sales)\n"
   ]
  },
  {
   "cell_type": "code",
   "execution_count": null,
   "id": "18d53ee4",
   "metadata": {},
   "outputs": [],
   "source": []
  }
 ],
 "metadata": {
  "kernelspec": {
   "display_name": "Python 3 (ipykernel)",
   "language": "python",
   "name": "python3"
  },
  "language_info": {
   "codemirror_mode": {
    "name": "ipython",
    "version": 3
   },
   "file_extension": ".py",
   "mimetype": "text/x-python",
   "name": "python",
   "nbconvert_exporter": "python",
   "pygments_lexer": "ipython3",
   "version": "3.11.5"
  }
 },
 "nbformat": 4,
 "nbformat_minor": 5
}
